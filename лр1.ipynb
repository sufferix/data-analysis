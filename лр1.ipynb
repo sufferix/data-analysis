{
 "cells": [
  {
   "cell_type": "markdown",
   "metadata": {},
   "source": [
    "# Лабораторная работа №1\n",
    "## \"Предварительный анализ данных\""
   ]
  },
  {
   "cell_type": "markdown",
   "metadata": {},
   "source": [
    "### Подготовка данных"
   ]
  },
  {
   "cell_type": "markdown",
   "metadata": {},
   "source": [
    "В данной лабораторной работе необходимо загрузить и обработать датасет, а также выполнить задания по варианту с помощью библиотеки `pandas` в `Python`. Для начала была импортирована данная библиотека с помощью функции `import`, затем был загружен датасет `clients.csv`"
   ]
  },
  {
   "cell_type": "code",
   "execution_count": 293,
   "metadata": {},
   "outputs": [],
   "source": [
    "import pandas as pd\n",
    "\n",
    "df = pd.read_csv('clients.csv',sep=';')"
   ]
  },
  {
   "cell_type": "markdown",
   "metadata": {},
   "source": [
    "Были выведены первые 20 строк с помощью функции `df.head(20)`"
   ]
  },
  {
   "cell_type": "code",
   "execution_count": 294,
   "metadata": {},
   "outputs": [
    {
     "name": "stdout",
     "output_type": "stream",
     "text": [
      "      ID  Year_Birth   Education Marital_Status   Income  Kidhome Dt_Customer  \\\n",
      "0   5524        1957  Graduation         Single  58138.0      0.0  04.09.2012   \n",
      "1   2174        1954  Graduation         Single  46344.0      1.0  08.03.2014   \n",
      "2   4141        1965  Graduation       Together  71613.0      0.0  21.08.2013   \n",
      "3   6182        1984  Graduation       Together  26646.0      1.0  10.02.2014   \n",
      "4   5324        1981         PhD        Married  58293.0      1.0  19.01.2014   \n",
      "5   7446        1967      Master       Together  62513.0      0.0  09.09.2013   \n",
      "6    965        1971  Graduation       Divorced  55635.0      0.0  13.11.2012   \n",
      "7   6177        1985         PhD        Married  33454.0      1.0  08.05.2013   \n",
      "8   4855        1974         PhD       Together  30351.0      1.0  06.06.2013   \n",
      "9   5899        1950         PhD       Together   5648.0      1.0  13.03.2014   \n",
      "10  1994        1983  Graduation        MARRIED      NaN      NaN         NaN   \n",
      "11   387        1976       Basic        Married   7500.0      0.0  13.11.2012   \n",
      "12  2125        1959  Graduation       Divorced  63033.0      0.0  15.11.2013   \n",
      "13  8180        1952      Master       Divorced  59354.0      1.0  15.11.2013   \n",
      "14  2569        1987  Graduation        Married  17323.0      0.0  10.10.2012   \n",
      "15  2114        1946         PhD          SINGL  82800.0      0.0  24.11.2012   \n",
      "16  9736        1980  Graduation        Married  41850.0      1.0  24.12.2012   \n",
      "17  4939        1946  Graduation       Together  37760.0      0.0  31.08.2012   \n",
      "18  6565        1949      Master        Married  76995.0      0.0  28.03.2013   \n",
      "19  9360        1982  Graduation        Married  37040.0      0.0  08.08.2012   \n",
      "\n",
      "    NumDealsPurchases  \n",
      "0                 3.0  \n",
      "1                 2.0  \n",
      "2                 1.0  \n",
      "3                 2.0  \n",
      "4                 5.0  \n",
      "5                 2.0  \n",
      "6                 4.0  \n",
      "7                 2.0  \n",
      "8                 1.0  \n",
      "9                 1.0  \n",
      "10                NaN  \n",
      "11                1.0  \n",
      "12                1.0  \n",
      "13                3.0  \n",
      "14                1.0  \n",
      "15                1.0  \n",
      "16                3.0  \n",
      "17                2.0  \n",
      "18                2.0  \n",
      "19                1.0  \n"
     ]
    }
   ],
   "source": [
    "print(df.head(20))"
   ]
  },
  {
   "cell_type": "markdown",
   "metadata": {},
   "source": [
    "Предметной областью по варианту является журнал клиентов с такой информацией о них:\n",
    "+ уникальный идентификатор\n",
    "+ год рождения\n",
    "+ уровень образования (базовый, выпускник, магистр, доктор наук)\n",
    "+ семейное положение (холостой, в отношениях, женатый, разведён, вдовый)\n",
    "+ семейная прибыль\n",
    "+ количество детей\n",
    "+ дата регистрации в компании\n",
    "+ количество покупок\n",
    "\n",
    "Все эти характеристики отображены в столбцах данного датасета. Чтобы показать все столбцы, используется функция `columns`"
   ]
  },
  {
   "cell_type": "code",
   "execution_count": 295,
   "metadata": {},
   "outputs": [
    {
     "name": "stdout",
     "output_type": "stream",
     "text": [
      "Index(['ID', 'Year_Birth', 'Education', 'Marital_Status', 'Income', 'Kidhome',\n",
      "       'Dt_Customer', 'NumDealsPurchases'],\n",
      "      dtype='object')\n"
     ]
    }
   ],
   "source": [
    "print(df.columns)"
   ]
  },
  {
   "cell_type": "markdown",
   "metadata": {},
   "source": [
    "Когда все столбцы были выведены, есть необходимость заменить названия столбцов, так как некоторые не отображают контекст (к примеру, `Kidhome`) или имеют в названии ошибку (в `NumDealsPurchases` слова deals и purchases имеют схожий смысл, а также написание не похоже на остальные столбцы)"
   ]
  },
  {
   "cell_type": "code",
   "execution_count": 296,
   "metadata": {},
   "outputs": [
    {
     "name": "stdout",
     "output_type": "stream",
     "text": [
      "Index(['ID', 'Birth_Year', 'Education', 'Marital_Status', 'Income', 'Children',\n",
      "       'Reg_Date', 'Purchases'],\n",
      "      dtype='object')\n"
     ]
    }
   ],
   "source": [
    "df = df.rename(columns= {'Kidhome':'Children'})\n",
    "df = df.rename(columns= {'NumDealsPurchases':'Purchases'})\n",
    "df = df.rename(columns= {'Year_Birth': 'Birth_Year'})\n",
    "df = df.rename(columns= {'Dt_Customer': 'Reg_Date'})\n",
    "\n",
    "print(df.columns)"
   ]
  },
  {
   "cell_type": "markdown",
   "metadata": {},
   "source": [
    "Для отображения информации о датасете используется функция `df.info()`"
   ]
  },
  {
   "cell_type": "code",
   "execution_count": 297,
   "metadata": {},
   "outputs": [
    {
     "name": "stdout",
     "output_type": "stream",
     "text": [
      "<class 'pandas.core.frame.DataFrame'>\n",
      "RangeIndex: 796 entries, 0 to 795\n",
      "Data columns (total 8 columns):\n",
      " #   Column          Non-Null Count  Dtype  \n",
      "---  ------          --------------  -----  \n",
      " 0   ID              796 non-null    int64  \n",
      " 1   Birth_Year      796 non-null    int64  \n",
      " 2   Education       796 non-null    object \n",
      " 3   Marital_Status  796 non-null    object \n",
      " 4   Income          784 non-null    float64\n",
      " 5   Children        795 non-null    float64\n",
      " 6   Reg_Date        795 non-null    object \n",
      " 7   Purchases       795 non-null    float64\n",
      "dtypes: float64(3), int64(2), object(3)\n",
      "memory usage: 49.9+ KB\n"
     ]
    }
   ],
   "source": [
    "df.info()"
   ]
  },
  {
   "cell_type": "markdown",
   "metadata": {},
   "source": [
    "Всего записей в этом датасете 796, однако в столбцах Income, Children, Reg_Date и Purchases наблюдаются меньше записей, так как там есть значения `NaN`. Чтобы вывести все записи, имеющие хотя бы одно нулевое значение, используется функция `.isnull()`. Функция `.any(axis=1)` указывает на поиск ненулевых значений именно по строкам."
   ]
  },
  {
   "cell_type": "code",
   "execution_count": 298,
   "metadata": {},
   "outputs": [
    {
     "name": "stdout",
     "output_type": "stream",
     "text": [
      "       ID  Birth_Year   Education Marital_Status  Income  Children  \\\n",
      "10   1994        1983  Graduation        MARRIED     NaN       NaN   \n",
      "26   5255        1986  Graduation         Single     NaN       1.0   \n",
      "41   7281        1959         PhD         Single     NaN       0.0   \n",
      "45   7244        1951  Graduation         Single     NaN       2.0   \n",
      "55   8557        1982  Graduation         Single     NaN       1.0   \n",
      "83   8996        1957         PhD        Married     NaN       2.0   \n",
      "84   9235        1957  Graduation         Single     NaN       1.0   \n",
      "85   5798        1973      Master       Together     NaN       0.0   \n",
      "116  8268        1961         PhD        Married     NaN       0.0   \n",
      "121  1295        1963  Graduation        Married     NaN       0.0   \n",
      "286  2437        1989  Graduation        Married     NaN       0.0   \n",
      "293  2863        1970  Graduation         Single     NaN       1.0   \n",
      "\n",
      "       Reg_Date  Purchases  \n",
      "10          NaN        NaN  \n",
      "26   20.02.2013        0.0  \n",
      "41   05.11.2013        1.0  \n",
      "45   01.01.2014        3.0  \n",
      "55   17.06.2013        2.0  \n",
      "83   19.11.2012       12.0  \n",
      "84   27.05.2014        1.0  \n",
      "85   23.11.2013        1.0  \n",
      "116  11.07.2013        3.0  \n",
      "121  11.08.2013        1.0  \n",
      "286  03.06.2013        1.0  \n",
      "293  23.08.2013        6.0  \n"
     ]
    }
   ],
   "source": [
    "df_nan = df[df.isnull().any(axis=1)]\n",
    "print(df_nan)"
   ]
  },
  {
   "cell_type": "markdown",
   "metadata": {},
   "source": [
    "Было принято решение удалить все записи, содержащие в себе хотя бы одно значение `NaN`, так как в дальнейшем отсутствие данных повлияло бы на значение среднего дохода семьи. За удаление строк с нулевыми значениями отвечает функция `.dropna()`. После этого была проведена проверка нулевых значений в столбцах с помощью функции `.isna()`, `.sum()` показывает сумму таких значений. Везде написано 0"
   ]
  },
  {
   "cell_type": "code",
   "execution_count": 299,
   "metadata": {},
   "outputs": [
    {
     "name": "stdout",
     "output_type": "stream",
     "text": [
      "ID                0\n",
      "Birth_Year        0\n",
      "Education         0\n",
      "Marital_Status    0\n",
      "Income            0\n",
      "Children          0\n",
      "Reg_Date          0\n",
      "Purchases         0\n",
      "dtype: int64\n"
     ]
    }
   ],
   "source": [
    "df = df.dropna()\n",
    "print(df.isna().sum())"
   ]
  },
  {
   "cell_type": "markdown",
   "metadata": {},
   "source": [
    "Также вывод функции `.info()` показал типы данных в столбцах. Столбцы `Children` и `Purchases` имеют тип `float`, однако значения в данных столбцах могут быть только дискретными, поэтому необходимо задать данным столбцам тип данных `int` с помощью функции `.astype()`"
   ]
  },
  {
   "cell_type": "code",
   "execution_count": 300,
   "metadata": {},
   "outputs": [],
   "source": [
    "df['Children'] = df['Children'].astype(int)\n",
    "df['Purchases'] = df['Purchases'].astype(int)"
   ]
  },
  {
   "cell_type": "markdown",
   "metadata": {},
   "source": [
    "Также столбец `Reg_Date` имеет тип данных `object`, но так как это столбец с датой, то данному столбцу необходимо присвоить тип данных `datetime` для правильного отображения с помощью функции `pd.to_datetime()` и задать формат дд.мм.гг."
   ]
  },
  {
   "cell_type": "code",
   "execution_count": 301,
   "metadata": {},
   "outputs": [],
   "source": [
    "df['Reg_Date'] = pd.to_datetime(df['Reg_Date'], format='%d.%m.%Y')"
   ]
  },
  {
   "cell_type": "markdown",
   "metadata": {},
   "source": [
    " Теперь можно вывести информацию о датасете с изменёнными типами данных."
   ]
  },
  {
   "cell_type": "code",
   "execution_count": 302,
   "metadata": {},
   "outputs": [
    {
     "name": "stdout",
     "output_type": "stream",
     "text": [
      "<class 'pandas.core.frame.DataFrame'>\n",
      "Index: 784 entries, 0 to 795\n",
      "Data columns (total 8 columns):\n",
      " #   Column          Non-Null Count  Dtype         \n",
      "---  ------          --------------  -----         \n",
      " 0   ID              784 non-null    int64         \n",
      " 1   Birth_Year      784 non-null    int64         \n",
      " 2   Education       784 non-null    object        \n",
      " 3   Marital_Status  784 non-null    object        \n",
      " 4   Income          784 non-null    float64       \n",
      " 5   Children        784 non-null    int64         \n",
      " 6   Reg_Date        784 non-null    datetime64[ns]\n",
      " 7   Purchases       784 non-null    int64         \n",
      "dtypes: datetime64[ns](1), float64(1), int64(4), object(2)\n",
      "memory usage: 55.1+ KB\n"
     ]
    }
   ],
   "source": [
    "df.info()"
   ]
  },
  {
   "cell_type": "markdown",
   "metadata": {},
   "source": [
    "Метод `.describe()` используется для получения статистического обзора данных. Он предоставляет такие статистические показатели, как среднее значение, стандартное отклонение, минимальное и максимальное значения, а также квартильные значения (25%, 50%, и 75%).\n",
    "Столбец `Reg_Date` тоже содержит числовые значения, но в виде даты, поэтому он был исключён из вывода, так как использовать его было бы некорректно."
   ]
  },
  {
   "cell_type": "code",
   "execution_count": 303,
   "metadata": {},
   "outputs": [
    {
     "name": "stdout",
     "output_type": "stream",
     "text": [
      "                 ID   Birth_Year        Income    Children   Purchases\n",
      "count    784.000000   784.000000     784.00000  784.000000  784.000000\n",
      "mean    5628.014031  1968.343112   53130.07398    0.434949    2.307398\n",
      "std     3279.536751    12.013759   21818.56876    0.542783    1.914827\n",
      "min        0.000000  1899.000000    2447.00000    0.000000    0.000000\n",
      "25%     2853.000000  1959.000000   36141.75000    0.000000    1.000000\n",
      "50%     5558.500000  1969.500000   52372.50000    0.000000    2.000000\n",
      "75%     8594.250000  1977.000000   69293.25000    1.000000    3.000000\n",
      "max    11191.000000  1995.000000  162397.00000    2.000000   15.000000\n"
     ]
    }
   ],
   "source": [
    "description = df.drop(columns='Reg_Date').describe()\n",
    "print(description)"
   ]
  },
  {
   "cell_type": "markdown",
   "metadata": {},
   "source": [
    "Далее необходимо проверить датасет на явные и неявные дубликаты. Для начала были проверены столбцы `Marital_Status` и `Education` на наличие записей с одинаковыми значениями, но разные по написанию (регистр или синоним) с помощью функции `.unique()`"
   ]
  },
  {
   "cell_type": "code",
   "execution_count": 304,
   "metadata": {},
   "outputs": [
    {
     "name": "stdout",
     "output_type": "stream",
     "text": [
      "['Single' 'Together' 'Married' 'Divorced' 'SINGL' 'MARRIED' 'Widow'\n",
      " 'Alone']\n",
      "['Graduation' 'PhD' 'Master' 'Basic']\n"
     ]
    }
   ],
   "source": [
    "print(df['Marital_Status'].unique())\n",
    "print(df['Education'].unique())"
   ]
  },
  {
   "cell_type": "markdown",
   "metadata": {},
   "source": [
    "В столбце `Education` нет каких-либо дублирующихся значений, однако в столбце `Marital_Status` есть значения `SINGL` и `Alone`, которые дублируют `Single`, и `MARRIED`, дублирующий `Married`. Приведение записей с такими значениями в нормальный вид можно сделать с помощью функции `.replace()`"
   ]
  },
  {
   "cell_type": "code",
   "execution_count": 305,
   "metadata": {},
   "outputs": [
    {
     "name": "stdout",
     "output_type": "stream",
     "text": [
      "['Single' 'Together' 'Married' 'Divorced' 'Widow']\n"
     ]
    }
   ],
   "source": [
    "dubles = ['SINGL','Alone']\n",
    "df['Marital_Status'] = df['Marital_Status'].replace(dubles,'Single')\n",
    "df['Marital_Status'] = df['Marital_Status'].replace('MARRIED','Married')\n",
    "print(df['Marital_Status'].unique())"
   ]
  },
  {
   "cell_type": "markdown",
   "metadata": {},
   "source": [
    "С помощью функции `.duplicated()` можно проверить, какие записи полностью повторяют уже существующую запись, но таким образом он выведет весь датасет со значениями True/False, поэтому для упрощения был добавлен метод `.sum()`"
   ]
  },
  {
   "cell_type": "code",
   "execution_count": 306,
   "metadata": {},
   "outputs": [
    {
     "name": "stdout",
     "output_type": "stream",
     "text": [
      "4\n"
     ]
    }
   ],
   "source": [
    "print(df.duplicated().sum())"
   ]
  },
  {
   "cell_type": "markdown",
   "metadata": {},
   "source": [
    "Всего получилось 4 дубликатов, которые необходимо удалить с помощью функции `.drop_duplicates()`"
   ]
  },
  {
   "cell_type": "code",
   "execution_count": 307,
   "metadata": {},
   "outputs": [],
   "source": [
    "df = df.drop_duplicates()"
   ]
  },
  {
   "cell_type": "markdown",
   "metadata": {},
   "source": [
    "В результате датасет был обработан и приведён в подходящий для анализа вид. Столбцы были переименованы и у некоторых из них были изменены типы данных. Датасет был очищен от дубликатов и от записей с неизвестными значениями."
   ]
  },
  {
   "cell_type": "markdown",
   "metadata": {},
   "source": [
    "### Задание 1\n",
    "_Группировка - тип образования по каждому семейному статусу (marital_status)._"
   ]
  },
  {
   "cell_type": "markdown",
   "metadata": {},
   "source": [
    "Группировка данных происходит с помощью метода `.groupby()`. Необходимо было сгруппировать данные по столбцам `Education` и `Marital_Status`, и вывести количество записей, соответствующих определённому семейному положению на всех уровнях образования, выведя только столбец `ID` с методом `.count()`"
   ]
  },
  {
   "cell_type": "code",
   "execution_count": 308,
   "metadata": {},
   "outputs": [
    {
     "name": "stdout",
     "output_type": "stream",
     "text": [
      "Education   Marital_Status\n",
      "Basic       Divorced            1\n",
      "            Married             9\n",
      "            Single              1\n",
      "            Together            4\n",
      "Graduation  Divorced           49\n",
      "            Married           168\n",
      "            Single             98\n",
      "            Together           96\n",
      "            Widow              21\n",
      "Master      Divorced           12\n",
      "            Married            57\n",
      "            Single             32\n",
      "            Together           41\n",
      "            Widow               4\n",
      "PhD         Divorced           23\n",
      "            Married            68\n",
      "            Single             41\n",
      "            Together           51\n",
      "            Widow               4\n",
      "Name: ID, dtype: int64\n"
     ]
    }
   ],
   "source": [
    "un = df.groupby(['Education','Marital_Status'])\n",
    "group = un['ID'].count()\n",
    "print(group)"
   ]
  },
  {
   "cell_type": "markdown",
   "metadata": {},
   "source": [
    "Получилась таблица, сгруппированная по уровню образования, которая показывает количество клиентов с разным семейным положением на все уровнях образования"
   ]
  },
  {
   "cell_type": "markdown",
   "metadata": {},
   "source": [
    "### Задание 2\n",
    "_Группировка - тип образования по каждому семейному статусу (marital_status). Создать датафрейм. Переименовать столбец с количеством в “сount”. Отсортировать по убыванию столбца “count”._\n"
   ]
  },
  {
   "cell_type": "markdown",
   "metadata": {},
   "source": [
    "Так как группировка точно такая же, то можно работать с таблицей из прошлого задания. Но теперь необходимо из этой таблицы создать датафрейм с помощью метода `pd.DataFrame()`. Самой таблице была присвоена переменная `group`, на основе которой был создан датафрейм. После этого столбец `ID` был переименован в столбец `Count` "
   ]
  },
  {
   "cell_type": "code",
   "execution_count": 309,
   "metadata": {},
   "outputs": [],
   "source": [
    "gr_df = pd.DataFrame(group)\n",
    "gr_df = gr_df.rename(columns={'ID':'Count'}) "
   ]
  },
  {
   "cell_type": "markdown",
   "metadata": {},
   "source": [
    "Далее значения столбца `Count` были отсортированы по убыванию, используя метод `sort_values`. Стоит обратить внимание на то, что внутри метода пишется всегда атрибут `ascending`, даже если надо отсортировать по убыванию. Атрибут `ascending` принимает значения `True/False`"
   ]
  },
  {
   "cell_type": "code",
   "execution_count": 310,
   "metadata": {},
   "outputs": [
    {
     "data": {
      "text/html": [
       "<div>\n",
       "<style scoped>\n",
       "    .dataframe tbody tr th:only-of-type {\n",
       "        vertical-align: middle;\n",
       "    }\n",
       "\n",
       "    .dataframe tbody tr th {\n",
       "        vertical-align: top;\n",
       "    }\n",
       "\n",
       "    .dataframe thead th {\n",
       "        text-align: right;\n",
       "    }\n",
       "</style>\n",
       "<table border=\"1\" class=\"dataframe\">\n",
       "  <thead>\n",
       "    <tr style=\"text-align: right;\">\n",
       "      <th></th>\n",
       "      <th></th>\n",
       "      <th>Count</th>\n",
       "    </tr>\n",
       "    <tr>\n",
       "      <th>Education</th>\n",
       "      <th>Marital_Status</th>\n",
       "      <th></th>\n",
       "    </tr>\n",
       "  </thead>\n",
       "  <tbody>\n",
       "    <tr>\n",
       "      <th rowspan=\"3\" valign=\"top\">Graduation</th>\n",
       "      <th>Married</th>\n",
       "      <td>168</td>\n",
       "    </tr>\n",
       "    <tr>\n",
       "      <th>Single</th>\n",
       "      <td>98</td>\n",
       "    </tr>\n",
       "    <tr>\n",
       "      <th>Together</th>\n",
       "      <td>96</td>\n",
       "    </tr>\n",
       "    <tr>\n",
       "      <th>PhD</th>\n",
       "      <th>Married</th>\n",
       "      <td>68</td>\n",
       "    </tr>\n",
       "    <tr>\n",
       "      <th>Master</th>\n",
       "      <th>Married</th>\n",
       "      <td>57</td>\n",
       "    </tr>\n",
       "    <tr>\n",
       "      <th>PhD</th>\n",
       "      <th>Together</th>\n",
       "      <td>51</td>\n",
       "    </tr>\n",
       "    <tr>\n",
       "      <th>Graduation</th>\n",
       "      <th>Divorced</th>\n",
       "      <td>49</td>\n",
       "    </tr>\n",
       "    <tr>\n",
       "      <th>PhD</th>\n",
       "      <th>Single</th>\n",
       "      <td>41</td>\n",
       "    </tr>\n",
       "    <tr>\n",
       "      <th rowspan=\"2\" valign=\"top\">Master</th>\n",
       "      <th>Together</th>\n",
       "      <td>41</td>\n",
       "    </tr>\n",
       "    <tr>\n",
       "      <th>Single</th>\n",
       "      <td>32</td>\n",
       "    </tr>\n",
       "    <tr>\n",
       "      <th>PhD</th>\n",
       "      <th>Divorced</th>\n",
       "      <td>23</td>\n",
       "    </tr>\n",
       "    <tr>\n",
       "      <th>Graduation</th>\n",
       "      <th>Widow</th>\n",
       "      <td>21</td>\n",
       "    </tr>\n",
       "    <tr>\n",
       "      <th>Master</th>\n",
       "      <th>Divorced</th>\n",
       "      <td>12</td>\n",
       "    </tr>\n",
       "    <tr>\n",
       "      <th rowspan=\"2\" valign=\"top\">Basic</th>\n",
       "      <th>Married</th>\n",
       "      <td>9</td>\n",
       "    </tr>\n",
       "    <tr>\n",
       "      <th>Together</th>\n",
       "      <td>4</td>\n",
       "    </tr>\n",
       "    <tr>\n",
       "      <th>Master</th>\n",
       "      <th>Widow</th>\n",
       "      <td>4</td>\n",
       "    </tr>\n",
       "    <tr>\n",
       "      <th>PhD</th>\n",
       "      <th>Widow</th>\n",
       "      <td>4</td>\n",
       "    </tr>\n",
       "    <tr>\n",
       "      <th rowspan=\"2\" valign=\"top\">Basic</th>\n",
       "      <th>Single</th>\n",
       "      <td>1</td>\n",
       "    </tr>\n",
       "    <tr>\n",
       "      <th>Divorced</th>\n",
       "      <td>1</td>\n",
       "    </tr>\n",
       "  </tbody>\n",
       "</table>\n",
       "</div>"
      ],
      "text/plain": [
       "                           Count\n",
       "Education  Marital_Status       \n",
       "Graduation Married           168\n",
       "           Single             98\n",
       "           Together           96\n",
       "PhD        Married            68\n",
       "Master     Married            57\n",
       "PhD        Together           51\n",
       "Graduation Divorced           49\n",
       "PhD        Single             41\n",
       "Master     Together           41\n",
       "           Single             32\n",
       "PhD        Divorced           23\n",
       "Graduation Widow              21\n",
       "Master     Divorced           12\n",
       "Basic      Married             9\n",
       "           Together            4\n",
       "Master     Widow               4\n",
       "PhD        Widow               4\n",
       "Basic      Single              1\n",
       "           Divorced            1"
      ]
     },
     "execution_count": 310,
     "metadata": {},
     "output_type": "execute_result"
    }
   ],
   "source": [
    "gr_df.sort_values(by='Count', ascending= False)"
   ]
  },
  {
   "cell_type": "markdown",
   "metadata": {},
   "source": [
    "В результате получилась отсортирована таблица по количеству записей с определённым семейным положением на различных уровнях образования"
   ]
  },
  {
   "cell_type": "markdown",
   "metadata": {},
   "source": [
    "### Задание 3\n",
    "_Сводная таблица (pivot_table) - средний доход семьи по семейному положению. Отсортировать по убыванию. Округлить до двух знаков._\n"
   ]
  },
  {
   "cell_type": "markdown",
   "metadata": {},
   "source": [
    "Метод `.pivot_table()` используется для создания сводных таблиц, которые позволяют агрегировать данные и представлять их в удобном формате. Основные атрибуты метода:\n",
    "+ `values`: Столбец или столбцы для агрегирования\n",
    "+ `index`: Столбец или столбцы, которые будут использоваться в качестве индексов строк\n",
    "+ `columns`: Столбец или столбцы, которые будут использоваться в качестве заголовков столбцов\n",
    "+ `aggfunc`: Функция или список функций для агрегации\n",
    "\n",
    "В данном задании необходимо создать сводную таблицу среднего дохода только по семейному положению, поэтому из списка используются только атрибуты `values`, `index` и `aggfunc`. За значения берётся доход, за индексы - семейное положение и функция усреднения.\n",
    "Также значения были отсортированы по убыванию и округлены до 2 знаков с помощью метода `.round(2)`"
   ]
  },
  {
   "cell_type": "code",
   "execution_count": 311,
   "metadata": {},
   "outputs": [
    {
     "name": "stdout",
     "output_type": "stream",
     "text": [
      "                  Income\n",
      "Marital_Status          \n",
      "Widow           55452.45\n",
      "Divorced        54568.16\n",
      "Together        54502.84\n",
      "Married         52898.34\n",
      "Single          50934.03\n"
     ]
    }
   ],
   "source": [
    "pivot = df.pivot_table(values='Income', index='Marital_Status', aggfunc='mean')\n",
    "print(pivot.sort_values(by='Income',ascending= False).round(2))"
   ]
  },
  {
   "cell_type": "markdown",
   "metadata": {},
   "source": [
    "Получившаяся таблица показывает среднее значение дохода семьи по семейному положению."
   ]
  },
  {
   "cell_type": "markdown",
   "metadata": {},
   "source": [
    "### Задание 4\n",
    "_Сводная таблица (pivot_table) - средний доход семьи по семейному положению - строки и уровню образованию - столбцы. Отсортировать по возрастанию marital_status. Округлить до двух знаков._\n"
   ]
  },
  {
   "cell_type": "markdown",
   "metadata": {},
   "source": [
    "В данном задании необходимо сделать такую же сводную таблицу, но с использованием атрибута `columns`, в качестве которого используется столбец `Education`. Значения были отсортированы по возрастанию индексов `Marital_Status` и округлены до 2 знаков."
   ]
  },
  {
   "cell_type": "code",
   "execution_count": 312,
   "metadata": {},
   "outputs": [
    {
     "name": "stdout",
     "output_type": "stream",
     "text": [
      "Education          Basic  Graduation    Master       PhD\n",
      "Marital_Status                                          \n",
      "Divorced         9548.00    57420.98  49405.83  53141.22\n",
      "Married         22018.22    51078.81  55391.37  59391.00\n",
      "Single          21063.00    50325.66  50831.16  53197.05\n",
      "Together        22437.50    52922.06  51009.98  62801.33\n",
      "Widow                NaN    55146.81  47164.00  65345.50\n"
     ]
    }
   ],
   "source": [
    "pivot_sq = df.pivot_table(values='Income', index='Marital_Status',columns='Education', aggfunc='mean')\n",
    "print(pivot_sq.sort_values(by= 'Marital_Status', ascending= True).round(2))"
   ]
  },
  {
   "cell_type": "markdown",
   "metadata": {},
   "source": [
    "Данная таблица отображает средние значения дохода семьи по разным уровням образования и семейному положению клиентов. Также в данной таблице можно заметить значение NaN. Это обусловлено тем, что в датасете не было заявлено записей вдовцов с базовым образованием."
   ]
  },
  {
   "cell_type": "markdown",
   "metadata": {},
   "source": [
    "### Вывод"
   ]
  },
  {
   "cell_type": "markdown",
   "metadata": {},
   "source": [
    "В данной лабораторной работе была проделана работа по обработке датасета, исключив ненужные записи и заменив некоторые значения, а также анализу данных с помощью группировки и создания сводной таблицы. Были освоены основные методы библиотеки `pandas` и варианты их использования:\n",
    "1. Для вывода информации о датасете были использованы методы `.info()`, `.describe()`\n",
    "2. Для вывода информации об определённых аспектах датасета были использованы методы `df.column`, `.isna()`, `.isnull()`, `.unique()`, `.duplicated()`\n",
    "3. Для замены данных в датасете были использованы методы `.rename()` - для столбцов или значений внутри столбцов, `.astype()` и `pd.to_datetime` - для изменения типа данных какого-либо столбца\n",
    "\n",
    "Также были использованы методы `.groupby()` для группировки значений, `sort_values()` для их сортировки, `.pivot_table()` для создания сводной таблицы и `pd.DataFrame()` для создания датафрейма из таблицы.\n"
   ]
  }
 ],
 "metadata": {
  "kernelspec": {
   "display_name": "Python 3",
   "language": "python",
   "name": "python3"
  },
  "language_info": {
   "codemirror_mode": {
    "name": "ipython",
    "version": 3
   },
   "file_extension": ".py",
   "mimetype": "text/x-python",
   "name": "python",
   "nbconvert_exporter": "python",
   "pygments_lexer": "ipython3",
   "version": "3.12.6"
  }
 },
 "nbformat": 4,
 "nbformat_minor": 2
}
