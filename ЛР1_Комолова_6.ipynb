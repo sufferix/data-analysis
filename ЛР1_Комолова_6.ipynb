{
 "cells": [
  {
   "cell_type": "markdown",
   "metadata": {},
   "source": [
    "# Лабораторная работа №1\n",
    "## \"Предварительный анализ данных\""
   ]
  },
  {
   "cell_type": "markdown",
   "metadata": {},
   "source": [
    "### Подготовка данных"
   ]
  },
  {
   "cell_type": "markdown",
   "metadata": {},
   "source": [
    "В данной лабораторной работе необходимо загрузить и обработать датасет, а также выполнить задания по варианту с помощью библиотеки `pandas` в `Python`. Для начала была импортирована данная библиотека с помощью функции `import`, затем был загружен датасет `clients.csv`"
   ]
  },
  {
   "cell_type": "code",
   "execution_count": 373,
   "metadata": {},
   "outputs": [],
   "source": [
    "import pandas as pd\n",
    "\n",
    "df = pd.read_csv('clients.csv',sep=';')"
   ]
  },
  {
   "cell_type": "markdown",
   "metadata": {},
   "source": [
    "Были выведены первые 20 строк с помощью функции `df.head(20)`"
   ]
  },
  {
   "cell_type": "code",
   "execution_count": 374,
   "metadata": {},
   "outputs": [
    {
     "data": {
      "text/html": [
       "<div>\n",
       "<style scoped>\n",
       "    .dataframe tbody tr th:only-of-type {\n",
       "        vertical-align: middle;\n",
       "    }\n",
       "\n",
       "    .dataframe tbody tr th {\n",
       "        vertical-align: top;\n",
       "    }\n",
       "\n",
       "    .dataframe thead th {\n",
       "        text-align: right;\n",
       "    }\n",
       "</style>\n",
       "<table border=\"1\" class=\"dataframe\">\n",
       "  <thead>\n",
       "    <tr style=\"text-align: right;\">\n",
       "      <th></th>\n",
       "      <th>ID</th>\n",
       "      <th>Year_Birth</th>\n",
       "      <th>Education</th>\n",
       "      <th>Marital_Status</th>\n",
       "      <th>Income</th>\n",
       "      <th>Kidhome</th>\n",
       "      <th>Dt_Customer</th>\n",
       "      <th>NumDealsPurchases</th>\n",
       "    </tr>\n",
       "  </thead>\n",
       "  <tbody>\n",
       "    <tr>\n",
       "      <th>0</th>\n",
       "      <td>5524</td>\n",
       "      <td>1957</td>\n",
       "      <td>Graduation</td>\n",
       "      <td>Single</td>\n",
       "      <td>58138.0</td>\n",
       "      <td>0.0</td>\n",
       "      <td>04.09.2012</td>\n",
       "      <td>3.0</td>\n",
       "    </tr>\n",
       "    <tr>\n",
       "      <th>1</th>\n",
       "      <td>2174</td>\n",
       "      <td>1954</td>\n",
       "      <td>Graduation</td>\n",
       "      <td>Single</td>\n",
       "      <td>46344.0</td>\n",
       "      <td>1.0</td>\n",
       "      <td>08.03.2014</td>\n",
       "      <td>2.0</td>\n",
       "    </tr>\n",
       "    <tr>\n",
       "      <th>2</th>\n",
       "      <td>4141</td>\n",
       "      <td>1965</td>\n",
       "      <td>Graduation</td>\n",
       "      <td>Together</td>\n",
       "      <td>71613.0</td>\n",
       "      <td>0.0</td>\n",
       "      <td>21.08.2013</td>\n",
       "      <td>1.0</td>\n",
       "    </tr>\n",
       "    <tr>\n",
       "      <th>3</th>\n",
       "      <td>6182</td>\n",
       "      <td>1984</td>\n",
       "      <td>Graduation</td>\n",
       "      <td>Together</td>\n",
       "      <td>26646.0</td>\n",
       "      <td>1.0</td>\n",
       "      <td>10.02.2014</td>\n",
       "      <td>2.0</td>\n",
       "    </tr>\n",
       "    <tr>\n",
       "      <th>4</th>\n",
       "      <td>5324</td>\n",
       "      <td>1981</td>\n",
       "      <td>PhD</td>\n",
       "      <td>Married</td>\n",
       "      <td>58293.0</td>\n",
       "      <td>1.0</td>\n",
       "      <td>19.01.2014</td>\n",
       "      <td>5.0</td>\n",
       "    </tr>\n",
       "    <tr>\n",
       "      <th>5</th>\n",
       "      <td>7446</td>\n",
       "      <td>1967</td>\n",
       "      <td>Master</td>\n",
       "      <td>Together</td>\n",
       "      <td>62513.0</td>\n",
       "      <td>0.0</td>\n",
       "      <td>09.09.2013</td>\n",
       "      <td>2.0</td>\n",
       "    </tr>\n",
       "    <tr>\n",
       "      <th>6</th>\n",
       "      <td>965</td>\n",
       "      <td>1971</td>\n",
       "      <td>Graduation</td>\n",
       "      <td>Divorced</td>\n",
       "      <td>55635.0</td>\n",
       "      <td>0.0</td>\n",
       "      <td>13.11.2012</td>\n",
       "      <td>4.0</td>\n",
       "    </tr>\n",
       "    <tr>\n",
       "      <th>7</th>\n",
       "      <td>6177</td>\n",
       "      <td>1985</td>\n",
       "      <td>PhD</td>\n",
       "      <td>Married</td>\n",
       "      <td>33454.0</td>\n",
       "      <td>1.0</td>\n",
       "      <td>08.05.2013</td>\n",
       "      <td>2.0</td>\n",
       "    </tr>\n",
       "    <tr>\n",
       "      <th>8</th>\n",
       "      <td>4855</td>\n",
       "      <td>1974</td>\n",
       "      <td>PhD</td>\n",
       "      <td>Together</td>\n",
       "      <td>30351.0</td>\n",
       "      <td>1.0</td>\n",
       "      <td>06.06.2013</td>\n",
       "      <td>1.0</td>\n",
       "    </tr>\n",
       "    <tr>\n",
       "      <th>9</th>\n",
       "      <td>5899</td>\n",
       "      <td>1950</td>\n",
       "      <td>PhD</td>\n",
       "      <td>Together</td>\n",
       "      <td>5648.0</td>\n",
       "      <td>1.0</td>\n",
       "      <td>13.03.2014</td>\n",
       "      <td>1.0</td>\n",
       "    </tr>\n",
       "    <tr>\n",
       "      <th>10</th>\n",
       "      <td>1994</td>\n",
       "      <td>1983</td>\n",
       "      <td>Graduation</td>\n",
       "      <td>MARRIED</td>\n",
       "      <td>NaN</td>\n",
       "      <td>NaN</td>\n",
       "      <td>NaN</td>\n",
       "      <td>NaN</td>\n",
       "    </tr>\n",
       "    <tr>\n",
       "      <th>11</th>\n",
       "      <td>387</td>\n",
       "      <td>1976</td>\n",
       "      <td>Basic</td>\n",
       "      <td>Married</td>\n",
       "      <td>7500.0</td>\n",
       "      <td>0.0</td>\n",
       "      <td>13.11.2012</td>\n",
       "      <td>1.0</td>\n",
       "    </tr>\n",
       "    <tr>\n",
       "      <th>12</th>\n",
       "      <td>2125</td>\n",
       "      <td>1959</td>\n",
       "      <td>Graduation</td>\n",
       "      <td>Divorced</td>\n",
       "      <td>63033.0</td>\n",
       "      <td>0.0</td>\n",
       "      <td>15.11.2013</td>\n",
       "      <td>1.0</td>\n",
       "    </tr>\n",
       "    <tr>\n",
       "      <th>13</th>\n",
       "      <td>8180</td>\n",
       "      <td>1952</td>\n",
       "      <td>Master</td>\n",
       "      <td>Divorced</td>\n",
       "      <td>59354.0</td>\n",
       "      <td>1.0</td>\n",
       "      <td>15.11.2013</td>\n",
       "      <td>3.0</td>\n",
       "    </tr>\n",
       "    <tr>\n",
       "      <th>14</th>\n",
       "      <td>2569</td>\n",
       "      <td>1987</td>\n",
       "      <td>Graduation</td>\n",
       "      <td>Married</td>\n",
       "      <td>17323.0</td>\n",
       "      <td>0.0</td>\n",
       "      <td>10.10.2012</td>\n",
       "      <td>1.0</td>\n",
       "    </tr>\n",
       "    <tr>\n",
       "      <th>15</th>\n",
       "      <td>2114</td>\n",
       "      <td>1946</td>\n",
       "      <td>PhD</td>\n",
       "      <td>SINGL</td>\n",
       "      <td>82800.0</td>\n",
       "      <td>0.0</td>\n",
       "      <td>24.11.2012</td>\n",
       "      <td>1.0</td>\n",
       "    </tr>\n",
       "    <tr>\n",
       "      <th>16</th>\n",
       "      <td>9736</td>\n",
       "      <td>1980</td>\n",
       "      <td>Graduation</td>\n",
       "      <td>Married</td>\n",
       "      <td>41850.0</td>\n",
       "      <td>1.0</td>\n",
       "      <td>24.12.2012</td>\n",
       "      <td>3.0</td>\n",
       "    </tr>\n",
       "    <tr>\n",
       "      <th>17</th>\n",
       "      <td>4939</td>\n",
       "      <td>1946</td>\n",
       "      <td>Graduation</td>\n",
       "      <td>Together</td>\n",
       "      <td>37760.0</td>\n",
       "      <td>0.0</td>\n",
       "      <td>31.08.2012</td>\n",
       "      <td>2.0</td>\n",
       "    </tr>\n",
       "    <tr>\n",
       "      <th>18</th>\n",
       "      <td>6565</td>\n",
       "      <td>1949</td>\n",
       "      <td>Master</td>\n",
       "      <td>Married</td>\n",
       "      <td>76995.0</td>\n",
       "      <td>0.0</td>\n",
       "      <td>28.03.2013</td>\n",
       "      <td>2.0</td>\n",
       "    </tr>\n",
       "    <tr>\n",
       "      <th>19</th>\n",
       "      <td>9360</td>\n",
       "      <td>1982</td>\n",
       "      <td>Graduation</td>\n",
       "      <td>Married</td>\n",
       "      <td>37040.0</td>\n",
       "      <td>0.0</td>\n",
       "      <td>08.08.2012</td>\n",
       "      <td>1.0</td>\n",
       "    </tr>\n",
       "  </tbody>\n",
       "</table>\n",
       "</div>"
      ],
      "text/plain": [
       "      ID  Year_Birth   Education Marital_Status   Income  Kidhome Dt_Customer  \\\n",
       "0   5524        1957  Graduation         Single  58138.0      0.0  04.09.2012   \n",
       "1   2174        1954  Graduation         Single  46344.0      1.0  08.03.2014   \n",
       "2   4141        1965  Graduation       Together  71613.0      0.0  21.08.2013   \n",
       "3   6182        1984  Graduation       Together  26646.0      1.0  10.02.2014   \n",
       "4   5324        1981         PhD        Married  58293.0      1.0  19.01.2014   \n",
       "5   7446        1967      Master       Together  62513.0      0.0  09.09.2013   \n",
       "6    965        1971  Graduation       Divorced  55635.0      0.0  13.11.2012   \n",
       "7   6177        1985         PhD        Married  33454.0      1.0  08.05.2013   \n",
       "8   4855        1974         PhD       Together  30351.0      1.0  06.06.2013   \n",
       "9   5899        1950         PhD       Together   5648.0      1.0  13.03.2014   \n",
       "10  1994        1983  Graduation        MARRIED      NaN      NaN         NaN   \n",
       "11   387        1976       Basic        Married   7500.0      0.0  13.11.2012   \n",
       "12  2125        1959  Graduation       Divorced  63033.0      0.0  15.11.2013   \n",
       "13  8180        1952      Master       Divorced  59354.0      1.0  15.11.2013   \n",
       "14  2569        1987  Graduation        Married  17323.0      0.0  10.10.2012   \n",
       "15  2114        1946         PhD          SINGL  82800.0      0.0  24.11.2012   \n",
       "16  9736        1980  Graduation        Married  41850.0      1.0  24.12.2012   \n",
       "17  4939        1946  Graduation       Together  37760.0      0.0  31.08.2012   \n",
       "18  6565        1949      Master        Married  76995.0      0.0  28.03.2013   \n",
       "19  9360        1982  Graduation        Married  37040.0      0.0  08.08.2012   \n",
       "\n",
       "    NumDealsPurchases  \n",
       "0                 3.0  \n",
       "1                 2.0  \n",
       "2                 1.0  \n",
       "3                 2.0  \n",
       "4                 5.0  \n",
       "5                 2.0  \n",
       "6                 4.0  \n",
       "7                 2.0  \n",
       "8                 1.0  \n",
       "9                 1.0  \n",
       "10                NaN  \n",
       "11                1.0  \n",
       "12                1.0  \n",
       "13                3.0  \n",
       "14                1.0  \n",
       "15                1.0  \n",
       "16                3.0  \n",
       "17                2.0  \n",
       "18                2.0  \n",
       "19                1.0  "
      ]
     },
     "execution_count": 374,
     "metadata": {},
     "output_type": "execute_result"
    }
   ],
   "source": [
    "df.head(20)"
   ]
  },
  {
   "cell_type": "markdown",
   "metadata": {},
   "source": [
    "Предметной областью по варианту является журнал клиентов с такой информацией о них:\n",
    "+ уникальный идентификатор\n",
    "+ год рождения\n",
    "+ уровень образования (базовый, выпускник, магистр, доктор наук)\n",
    "+ семейное положение (холостой, в отношениях, женатый, разведён, вдовый)\n",
    "+ семейная прибыль\n",
    "+ количество детей\n",
    "+ дата регистрации в компании\n",
    "+ количество покупок\n",
    "\n",
    "Все эти характеристики отображены в столбцах данного датасета. Чтобы показать все столбцы, используется функция `columns`"
   ]
  },
  {
   "cell_type": "code",
   "execution_count": 375,
   "metadata": {},
   "outputs": [
    {
     "data": {
      "text/plain": [
       "Index(['ID', 'Year_Birth', 'Education', 'Marital_Status', 'Income', 'Kidhome',\n",
       "       'Dt_Customer', 'NumDealsPurchases'],\n",
       "      dtype='object')"
      ]
     },
     "execution_count": 375,
     "metadata": {},
     "output_type": "execute_result"
    }
   ],
   "source": [
    "df.columns"
   ]
  },
  {
   "cell_type": "markdown",
   "metadata": {},
   "source": [
    "Когда все столбцы были выведены, есть необходимость заменить названия столбцов, так как некоторые не отображают контекст (к примеру, `Kidhome`) или имеют в названии ошибку (в `NumDealsPurchases` слова deals и purchases имеют схожий смысл, а также написание не похоже на остальные столбцы)"
   ]
  },
  {
   "cell_type": "code",
   "execution_count": 376,
   "metadata": {},
   "outputs": [
    {
     "name": "stdout",
     "output_type": "stream",
     "text": [
      "Index(['ID', 'Birth_Year', 'Education', 'Marital_Status', 'Income', 'Children',\n",
      "       'Reg_Date', 'Purchases'],\n",
      "      dtype='object')\n"
     ]
    }
   ],
   "source": [
    "df = df.rename(columns= {'Kidhome':'Children'})\n",
    "df = df.rename(columns= {'NumDealsPurchases':'Purchases'})\n",
    "df = df.rename(columns= {'Year_Birth': 'Birth_Year'})\n",
    "df = df.rename(columns= {'Dt_Customer': 'Reg_Date'})\n",
    "\n",
    "print(df.columns)"
   ]
  },
  {
   "cell_type": "markdown",
   "metadata": {},
   "source": [
    "Для отображения информации о датасете используется функция `df.info()`"
   ]
  },
  {
   "cell_type": "code",
   "execution_count": 377,
   "metadata": {},
   "outputs": [
    {
     "name": "stdout",
     "output_type": "stream",
     "text": [
      "<class 'pandas.core.frame.DataFrame'>\n",
      "RangeIndex: 796 entries, 0 to 795\n",
      "Data columns (total 8 columns):\n",
      " #   Column          Non-Null Count  Dtype  \n",
      "---  ------          --------------  -----  \n",
      " 0   ID              796 non-null    int64  \n",
      " 1   Birth_Year      796 non-null    int64  \n",
      " 2   Education       796 non-null    object \n",
      " 3   Marital_Status  796 non-null    object \n",
      " 4   Income          784 non-null    float64\n",
      " 5   Children        795 non-null    float64\n",
      " 6   Reg_Date        795 non-null    object \n",
      " 7   Purchases       795 non-null    float64\n",
      "dtypes: float64(3), int64(2), object(3)\n",
      "memory usage: 49.9+ KB\n"
     ]
    }
   ],
   "source": [
    "df.info()"
   ]
  },
  {
   "cell_type": "markdown",
   "metadata": {},
   "source": [
    "Всего записей в этом датасете 796, однако в столбцах Income, Children, Reg_Date и Purchases наблюдаются меньше записей, так как там есть значения `NaN`. Чтобы вывести все записи, имеющие хотя бы одно нулевое значение, используется функция `.isnull()`. Функция `.any(axis=1)` указывает на поиск ненулевых значений именно по строкам."
   ]
  },
  {
   "cell_type": "code",
   "execution_count": 378,
   "metadata": {},
   "outputs": [
    {
     "data": {
      "text/html": [
       "<div>\n",
       "<style scoped>\n",
       "    .dataframe tbody tr th:only-of-type {\n",
       "        vertical-align: middle;\n",
       "    }\n",
       "\n",
       "    .dataframe tbody tr th {\n",
       "        vertical-align: top;\n",
       "    }\n",
       "\n",
       "    .dataframe thead th {\n",
       "        text-align: right;\n",
       "    }\n",
       "</style>\n",
       "<table border=\"1\" class=\"dataframe\">\n",
       "  <thead>\n",
       "    <tr style=\"text-align: right;\">\n",
       "      <th></th>\n",
       "      <th>ID</th>\n",
       "      <th>Birth_Year</th>\n",
       "      <th>Education</th>\n",
       "      <th>Marital_Status</th>\n",
       "      <th>Income</th>\n",
       "      <th>Children</th>\n",
       "      <th>Reg_Date</th>\n",
       "      <th>Purchases</th>\n",
       "    </tr>\n",
       "  </thead>\n",
       "  <tbody>\n",
       "    <tr>\n",
       "      <th>10</th>\n",
       "      <td>1994</td>\n",
       "      <td>1983</td>\n",
       "      <td>Graduation</td>\n",
       "      <td>MARRIED</td>\n",
       "      <td>NaN</td>\n",
       "      <td>NaN</td>\n",
       "      <td>NaN</td>\n",
       "      <td>NaN</td>\n",
       "    </tr>\n",
       "    <tr>\n",
       "      <th>26</th>\n",
       "      <td>5255</td>\n",
       "      <td>1986</td>\n",
       "      <td>Graduation</td>\n",
       "      <td>Single</td>\n",
       "      <td>NaN</td>\n",
       "      <td>1.0</td>\n",
       "      <td>20.02.2013</td>\n",
       "      <td>0.0</td>\n",
       "    </tr>\n",
       "    <tr>\n",
       "      <th>41</th>\n",
       "      <td>7281</td>\n",
       "      <td>1959</td>\n",
       "      <td>PhD</td>\n",
       "      <td>Single</td>\n",
       "      <td>NaN</td>\n",
       "      <td>0.0</td>\n",
       "      <td>05.11.2013</td>\n",
       "      <td>1.0</td>\n",
       "    </tr>\n",
       "    <tr>\n",
       "      <th>45</th>\n",
       "      <td>7244</td>\n",
       "      <td>1951</td>\n",
       "      <td>Graduation</td>\n",
       "      <td>Single</td>\n",
       "      <td>NaN</td>\n",
       "      <td>2.0</td>\n",
       "      <td>01.01.2014</td>\n",
       "      <td>3.0</td>\n",
       "    </tr>\n",
       "    <tr>\n",
       "      <th>55</th>\n",
       "      <td>8557</td>\n",
       "      <td>1982</td>\n",
       "      <td>Graduation</td>\n",
       "      <td>Single</td>\n",
       "      <td>NaN</td>\n",
       "      <td>1.0</td>\n",
       "      <td>17.06.2013</td>\n",
       "      <td>2.0</td>\n",
       "    </tr>\n",
       "    <tr>\n",
       "      <th>83</th>\n",
       "      <td>8996</td>\n",
       "      <td>1957</td>\n",
       "      <td>PhD</td>\n",
       "      <td>Married</td>\n",
       "      <td>NaN</td>\n",
       "      <td>2.0</td>\n",
       "      <td>19.11.2012</td>\n",
       "      <td>12.0</td>\n",
       "    </tr>\n",
       "    <tr>\n",
       "      <th>84</th>\n",
       "      <td>9235</td>\n",
       "      <td>1957</td>\n",
       "      <td>Graduation</td>\n",
       "      <td>Single</td>\n",
       "      <td>NaN</td>\n",
       "      <td>1.0</td>\n",
       "      <td>27.05.2014</td>\n",
       "      <td>1.0</td>\n",
       "    </tr>\n",
       "    <tr>\n",
       "      <th>85</th>\n",
       "      <td>5798</td>\n",
       "      <td>1973</td>\n",
       "      <td>Master</td>\n",
       "      <td>Together</td>\n",
       "      <td>NaN</td>\n",
       "      <td>0.0</td>\n",
       "      <td>23.11.2013</td>\n",
       "      <td>1.0</td>\n",
       "    </tr>\n",
       "    <tr>\n",
       "      <th>116</th>\n",
       "      <td>8268</td>\n",
       "      <td>1961</td>\n",
       "      <td>PhD</td>\n",
       "      <td>Married</td>\n",
       "      <td>NaN</td>\n",
       "      <td>0.0</td>\n",
       "      <td>11.07.2013</td>\n",
       "      <td>3.0</td>\n",
       "    </tr>\n",
       "    <tr>\n",
       "      <th>121</th>\n",
       "      <td>1295</td>\n",
       "      <td>1963</td>\n",
       "      <td>Graduation</td>\n",
       "      <td>Married</td>\n",
       "      <td>NaN</td>\n",
       "      <td>0.0</td>\n",
       "      <td>11.08.2013</td>\n",
       "      <td>1.0</td>\n",
       "    </tr>\n",
       "    <tr>\n",
       "      <th>286</th>\n",
       "      <td>2437</td>\n",
       "      <td>1989</td>\n",
       "      <td>Graduation</td>\n",
       "      <td>Married</td>\n",
       "      <td>NaN</td>\n",
       "      <td>0.0</td>\n",
       "      <td>03.06.2013</td>\n",
       "      <td>1.0</td>\n",
       "    </tr>\n",
       "    <tr>\n",
       "      <th>293</th>\n",
       "      <td>2863</td>\n",
       "      <td>1970</td>\n",
       "      <td>Graduation</td>\n",
       "      <td>Single</td>\n",
       "      <td>NaN</td>\n",
       "      <td>1.0</td>\n",
       "      <td>23.08.2013</td>\n",
       "      <td>6.0</td>\n",
       "    </tr>\n",
       "  </tbody>\n",
       "</table>\n",
       "</div>"
      ],
      "text/plain": [
       "       ID  Birth_Year   Education Marital_Status  Income  Children  \\\n",
       "10   1994        1983  Graduation        MARRIED     NaN       NaN   \n",
       "26   5255        1986  Graduation         Single     NaN       1.0   \n",
       "41   7281        1959         PhD         Single     NaN       0.0   \n",
       "45   7244        1951  Graduation         Single     NaN       2.0   \n",
       "55   8557        1982  Graduation         Single     NaN       1.0   \n",
       "83   8996        1957         PhD        Married     NaN       2.0   \n",
       "84   9235        1957  Graduation         Single     NaN       1.0   \n",
       "85   5798        1973      Master       Together     NaN       0.0   \n",
       "116  8268        1961         PhD        Married     NaN       0.0   \n",
       "121  1295        1963  Graduation        Married     NaN       0.0   \n",
       "286  2437        1989  Graduation        Married     NaN       0.0   \n",
       "293  2863        1970  Graduation         Single     NaN       1.0   \n",
       "\n",
       "       Reg_Date  Purchases  \n",
       "10          NaN        NaN  \n",
       "26   20.02.2013        0.0  \n",
       "41   05.11.2013        1.0  \n",
       "45   01.01.2014        3.0  \n",
       "55   17.06.2013        2.0  \n",
       "83   19.11.2012       12.0  \n",
       "84   27.05.2014        1.0  \n",
       "85   23.11.2013        1.0  \n",
       "116  11.07.2013        3.0  \n",
       "121  11.08.2013        1.0  \n",
       "286  03.06.2013        1.0  \n",
       "293  23.08.2013        6.0  "
      ]
     },
     "metadata": {},
     "output_type": "display_data"
    }
   ],
   "source": [
    "df_nan = df[df.isnull().any(axis=1)]\n",
    "display(df_nan)"
   ]
  },
  {
   "cell_type": "markdown",
   "metadata": {},
   "source": [
    "Было принято решение удалить все записи, содержащие в себе хотя бы одно значение `NaN`, так как в дальнейшем отсутствие данных повлияло бы на значение среднего дохода семьи. За удаление строк с нулевыми значениями отвечает функция `.dropna()`. После этого была проведена проверка нулевых значений в столбцах с помощью функции `.isna()`, `.sum()` показывает сумму таких значений. Везде написано 0"
   ]
  },
  {
   "cell_type": "code",
   "execution_count": 379,
   "metadata": {},
   "outputs": [
    {
     "data": {
      "text/plain": [
       "ID                0\n",
       "Birth_Year        0\n",
       "Education         0\n",
       "Marital_Status    0\n",
       "Income            0\n",
       "Children          0\n",
       "Reg_Date          0\n",
       "Purchases         0\n",
       "dtype: int64"
      ]
     },
     "execution_count": 379,
     "metadata": {},
     "output_type": "execute_result"
    }
   ],
   "source": [
    "df = df.dropna()\n",
    "df.isna().sum()"
   ]
  },
  {
   "cell_type": "markdown",
   "metadata": {},
   "source": [
    "Также вывод функции `.info()` показал типы данных в столбцах. Столбцы `Children` и `Purchases` имеют тип `float`, однако значения в данных столбцах могут быть только дискретными, поэтому необходимо задать данным столбцам тип данных `int` с помощью функции `.astype()`"
   ]
  },
  {
   "cell_type": "code",
   "execution_count": 380,
   "metadata": {},
   "outputs": [],
   "source": [
    "df['Children'] = df['Children'].astype(int)\n",
    "df['Purchases'] = df['Purchases'].astype(int)"
   ]
  },
  {
   "cell_type": "markdown",
   "metadata": {},
   "source": [
    "Также столбец `Reg_Date` имеет тип данных `object`, но так как это столбец с датой, то данному столбцу необходимо присвоить тип данных `datetime` для правильного отображения с помощью функции `pd.to_datetime()` и задать формат дд.мм.гг."
   ]
  },
  {
   "cell_type": "code",
   "execution_count": 381,
   "metadata": {},
   "outputs": [],
   "source": [
    "df['Reg_Date'] = pd.to_datetime(df['Reg_Date'], format='%d.%m.%Y')"
   ]
  },
  {
   "cell_type": "markdown",
   "metadata": {},
   "source": [
    " Теперь можно вывести информацию о датасете с изменёнными типами данных."
   ]
  },
  {
   "cell_type": "code",
   "execution_count": 382,
   "metadata": {},
   "outputs": [
    {
     "name": "stdout",
     "output_type": "stream",
     "text": [
      "<class 'pandas.core.frame.DataFrame'>\n",
      "Index: 784 entries, 0 to 795\n",
      "Data columns (total 8 columns):\n",
      " #   Column          Non-Null Count  Dtype         \n",
      "---  ------          --------------  -----         \n",
      " 0   ID              784 non-null    int64         \n",
      " 1   Birth_Year      784 non-null    int64         \n",
      " 2   Education       784 non-null    object        \n",
      " 3   Marital_Status  784 non-null    object        \n",
      " 4   Income          784 non-null    float64       \n",
      " 5   Children        784 non-null    int64         \n",
      " 6   Reg_Date        784 non-null    datetime64[ns]\n",
      " 7   Purchases       784 non-null    int64         \n",
      "dtypes: datetime64[ns](1), float64(1), int64(4), object(2)\n",
      "memory usage: 55.1+ KB\n"
     ]
    }
   ],
   "source": [
    "df.info()"
   ]
  },
  {
   "cell_type": "markdown",
   "metadata": {},
   "source": [
    "Метод `.describe()` используется для получения статистического обзора данных. Он предоставляет такие статистические показатели, как среднее значение, стандартное отклонение, минимальное и максимальное значения, а также квартильные значения (25%, 50%, и 75%).\n",
    "Столбец `Reg_Date` тоже содержит числовые значения, но в виде даты, поэтому он был исключён из вывода, так как использовать его было бы некорректно."
   ]
  },
  {
   "cell_type": "code",
   "execution_count": 383,
   "metadata": {},
   "outputs": [
    {
     "data": {
      "text/html": [
       "<div>\n",
       "<style scoped>\n",
       "    .dataframe tbody tr th:only-of-type {\n",
       "        vertical-align: middle;\n",
       "    }\n",
       "\n",
       "    .dataframe tbody tr th {\n",
       "        vertical-align: top;\n",
       "    }\n",
       "\n",
       "    .dataframe thead th {\n",
       "        text-align: right;\n",
       "    }\n",
       "</style>\n",
       "<table border=\"1\" class=\"dataframe\">\n",
       "  <thead>\n",
       "    <tr style=\"text-align: right;\">\n",
       "      <th></th>\n",
       "      <th>ID</th>\n",
       "      <th>Birth_Year</th>\n",
       "      <th>Income</th>\n",
       "      <th>Children</th>\n",
       "      <th>Purchases</th>\n",
       "    </tr>\n",
       "  </thead>\n",
       "  <tbody>\n",
       "    <tr>\n",
       "      <th>count</th>\n",
       "      <td>784.000000</td>\n",
       "      <td>784.000000</td>\n",
       "      <td>784.00000</td>\n",
       "      <td>784.000000</td>\n",
       "      <td>784.000000</td>\n",
       "    </tr>\n",
       "    <tr>\n",
       "      <th>mean</th>\n",
       "      <td>5628.014031</td>\n",
       "      <td>1968.343112</td>\n",
       "      <td>53130.07398</td>\n",
       "      <td>0.434949</td>\n",
       "      <td>2.307398</td>\n",
       "    </tr>\n",
       "    <tr>\n",
       "      <th>std</th>\n",
       "      <td>3279.536751</td>\n",
       "      <td>12.013759</td>\n",
       "      <td>21818.56876</td>\n",
       "      <td>0.542783</td>\n",
       "      <td>1.914827</td>\n",
       "    </tr>\n",
       "    <tr>\n",
       "      <th>min</th>\n",
       "      <td>0.000000</td>\n",
       "      <td>1899.000000</td>\n",
       "      <td>2447.00000</td>\n",
       "      <td>0.000000</td>\n",
       "      <td>0.000000</td>\n",
       "    </tr>\n",
       "    <tr>\n",
       "      <th>25%</th>\n",
       "      <td>2853.000000</td>\n",
       "      <td>1959.000000</td>\n",
       "      <td>36141.75000</td>\n",
       "      <td>0.000000</td>\n",
       "      <td>1.000000</td>\n",
       "    </tr>\n",
       "    <tr>\n",
       "      <th>50%</th>\n",
       "      <td>5558.500000</td>\n",
       "      <td>1969.500000</td>\n",
       "      <td>52372.50000</td>\n",
       "      <td>0.000000</td>\n",
       "      <td>2.000000</td>\n",
       "    </tr>\n",
       "    <tr>\n",
       "      <th>75%</th>\n",
       "      <td>8594.250000</td>\n",
       "      <td>1977.000000</td>\n",
       "      <td>69293.25000</td>\n",
       "      <td>1.000000</td>\n",
       "      <td>3.000000</td>\n",
       "    </tr>\n",
       "    <tr>\n",
       "      <th>max</th>\n",
       "      <td>11191.000000</td>\n",
       "      <td>1995.000000</td>\n",
       "      <td>162397.00000</td>\n",
       "      <td>2.000000</td>\n",
       "      <td>15.000000</td>\n",
       "    </tr>\n",
       "  </tbody>\n",
       "</table>\n",
       "</div>"
      ],
      "text/plain": [
       "                 ID   Birth_Year        Income    Children   Purchases\n",
       "count    784.000000   784.000000     784.00000  784.000000  784.000000\n",
       "mean    5628.014031  1968.343112   53130.07398    0.434949    2.307398\n",
       "std     3279.536751    12.013759   21818.56876    0.542783    1.914827\n",
       "min        0.000000  1899.000000    2447.00000    0.000000    0.000000\n",
       "25%     2853.000000  1959.000000   36141.75000    0.000000    1.000000\n",
       "50%     5558.500000  1969.500000   52372.50000    0.000000    2.000000\n",
       "75%     8594.250000  1977.000000   69293.25000    1.000000    3.000000\n",
       "max    11191.000000  1995.000000  162397.00000    2.000000   15.000000"
      ]
     },
     "metadata": {},
     "output_type": "display_data"
    }
   ],
   "source": [
    "description = df.drop(columns='Reg_Date').describe()\n",
    "display(description)"
   ]
  },
  {
   "cell_type": "markdown",
   "metadata": {},
   "source": [
    "Далее необходимо проверить датасет на явные и неявные дубликаты. Для начала были проверены столбцы `Marital_Status` и `Education` на наличие записей с одинаковыми значениями, но разные по написанию (регистр или синоним) с помощью функции `.unique()`"
   ]
  },
  {
   "cell_type": "code",
   "execution_count": 384,
   "metadata": {},
   "outputs": [
    {
     "name": "stdout",
     "output_type": "stream",
     "text": [
      "['Single' 'Together' 'Married' 'Divorced' 'SINGL' 'MARRIED' 'Widow'\n",
      " 'Alone']\n",
      "['Graduation' 'PhD' 'Master' 'Basic']\n"
     ]
    }
   ],
   "source": [
    "print(df['Marital_Status'].unique())\n",
    "print(df['Education'].unique())"
   ]
  },
  {
   "cell_type": "markdown",
   "metadata": {},
   "source": [
    "В столбце `Education` нет каких-либо дублирующихся значений, однако в столбце `Marital_Status` есть значения `SINGL` и `Alone`, которые дублируют `Single`, и `MARRIED`, дублирующий `Married`. Приведение записей с такими значениями в нормальный вид можно сделать с помощью функции `.replace()`"
   ]
  },
  {
   "cell_type": "code",
   "execution_count": 385,
   "metadata": {},
   "outputs": [
    {
     "name": "stdout",
     "output_type": "stream",
     "text": [
      "['Single' 'Together' 'Married' 'Divorced' 'Widow']\n"
     ]
    }
   ],
   "source": [
    "dubles = ['SINGL','Alone']\n",
    "df['Marital_Status'] = df['Marital_Status'].replace(dubles,'Single')\n",
    "df['Marital_Status'] = df['Marital_Status'].replace('MARRIED','Married')\n",
    "print(df['Marital_Status'].unique())"
   ]
  },
  {
   "cell_type": "markdown",
   "metadata": {},
   "source": [
    "С помощью функции `.duplicated()` можно проверить, какие записи полностью повторяют уже существующую запись, но таким образом он выведет весь датасет со значениями `True/False`, поэтому для упрощения был добавлен метод `.sum()`"
   ]
  },
  {
   "cell_type": "code",
   "execution_count": 386,
   "metadata": {},
   "outputs": [
    {
     "name": "stdout",
     "output_type": "stream",
     "text": [
      "4\n"
     ]
    }
   ],
   "source": [
    "print(df.duplicated().sum())"
   ]
  },
  {
   "cell_type": "markdown",
   "metadata": {},
   "source": [
    "Всего получилось 4 дубликатов, которые необходимо удалить с помощью функции `.drop_duplicates()`"
   ]
  },
  {
   "cell_type": "code",
   "execution_count": 387,
   "metadata": {},
   "outputs": [],
   "source": [
    "df = df.drop_duplicates()"
   ]
  },
  {
   "cell_type": "markdown",
   "metadata": {},
   "source": [
    "В результате датасет был обработан и приведён в подходящий для анализа вид. Столбцы были переименованы и у некоторых из них были изменены типы данных. Датасет был очищен от дубликатов и от записей с неизвестными значениями."
   ]
  },
  {
   "cell_type": "markdown",
   "metadata": {},
   "source": [
    "### Задание 1\n",
    "_Группировка - тип образования по каждому семейному статусу (marital_status)._"
   ]
  },
  {
   "cell_type": "markdown",
   "metadata": {},
   "source": [
    "Группировка данных происходит с помощью метода `.groupby()`. Необходимо было сгруппировать данные по столбцам `Education` и `Marital_Status`, и вывести количество записей, соответствующих определённому семейному положению на всех уровнях образования, выведя только столбец `ID` с методом `.count()`"
   ]
  },
  {
   "cell_type": "code",
   "execution_count": 388,
   "metadata": {},
   "outputs": [
    {
     "data": {
      "text/plain": [
       "Education   Marital_Status\n",
       "Basic       Divorced            1\n",
       "            Married             9\n",
       "            Single              1\n",
       "            Together            4\n",
       "Graduation  Divorced           49\n",
       "            Married           168\n",
       "            Single             98\n",
       "            Together           96\n",
       "            Widow              21\n",
       "Master      Divorced           12\n",
       "            Married            57\n",
       "            Single             32\n",
       "            Together           41\n",
       "            Widow               4\n",
       "PhD         Divorced           23\n",
       "            Married            68\n",
       "            Single             41\n",
       "            Together           51\n",
       "            Widow               4\n",
       "Name: ID, dtype: int64"
      ]
     },
     "metadata": {},
     "output_type": "display_data"
    }
   ],
   "source": [
    "un = df.groupby(['Education','Marital_Status'])\n",
    "group = un['ID'].count()\n",
    "display(group)"
   ]
  },
  {
   "cell_type": "markdown",
   "metadata": {},
   "source": [
    "Получилась таблица, сгруппированная по уровню образования, которая показывает количество клиентов с разным семейным положением на все уровнях образования"
   ]
  },
  {
   "cell_type": "markdown",
   "metadata": {},
   "source": [
    "### Задание 2\n",
    "_Группировка - тип образования по каждому семейному статусу (marital_status). Создать датафрейм. Переименовать столбец с количеством в “сount”. Отсортировать по убыванию столбца “count”._\n"
   ]
  },
  {
   "cell_type": "markdown",
   "metadata": {},
   "source": [
    "Так как группировка точно такая же, то можно работать с таблицей из прошлого задания. Но теперь необходимо из этой таблицы создать датафрейм с помощью метода `pd.DataFrame()`. Самой таблице была присвоена переменная `group`, на основе которой был создан датафрейм. После этого столбец `ID` был переименован в столбец `Count` "
   ]
  },
  {
   "cell_type": "code",
   "execution_count": 389,
   "metadata": {},
   "outputs": [],
   "source": [
    "gr_df = pd.DataFrame(group)\n",
    "gr_df = gr_df.rename(columns={'ID':'Count'}) "
   ]
  },
  {
   "cell_type": "markdown",
   "metadata": {},
   "source": [
    "Далее значения столбца `Count` были отсортированы по убыванию, используя метод `sort_values`. Стоит обратить внимание на то, что внутри метода пишется всегда атрибут `ascending`, даже если надо отсортировать по убыванию. Атрибут `ascending` принимает значения `True/False`"
   ]
  },
  {
   "cell_type": "code",
   "execution_count": 390,
   "metadata": {},
   "outputs": [
    {
     "data": {
      "text/html": [
       "<div>\n",
       "<style scoped>\n",
       "    .dataframe tbody tr th:only-of-type {\n",
       "        vertical-align: middle;\n",
       "    }\n",
       "\n",
       "    .dataframe tbody tr th {\n",
       "        vertical-align: top;\n",
       "    }\n",
       "\n",
       "    .dataframe thead th {\n",
       "        text-align: right;\n",
       "    }\n",
       "</style>\n",
       "<table border=\"1\" class=\"dataframe\">\n",
       "  <thead>\n",
       "    <tr style=\"text-align: right;\">\n",
       "      <th></th>\n",
       "      <th></th>\n",
       "      <th>Count</th>\n",
       "    </tr>\n",
       "    <tr>\n",
       "      <th>Education</th>\n",
       "      <th>Marital_Status</th>\n",
       "      <th></th>\n",
       "    </tr>\n",
       "  </thead>\n",
       "  <tbody>\n",
       "    <tr>\n",
       "      <th rowspan=\"3\" valign=\"top\">Graduation</th>\n",
       "      <th>Married</th>\n",
       "      <td>168</td>\n",
       "    </tr>\n",
       "    <tr>\n",
       "      <th>Single</th>\n",
       "      <td>98</td>\n",
       "    </tr>\n",
       "    <tr>\n",
       "      <th>Together</th>\n",
       "      <td>96</td>\n",
       "    </tr>\n",
       "    <tr>\n",
       "      <th>PhD</th>\n",
       "      <th>Married</th>\n",
       "      <td>68</td>\n",
       "    </tr>\n",
       "    <tr>\n",
       "      <th>Master</th>\n",
       "      <th>Married</th>\n",
       "      <td>57</td>\n",
       "    </tr>\n",
       "    <tr>\n",
       "      <th>PhD</th>\n",
       "      <th>Together</th>\n",
       "      <td>51</td>\n",
       "    </tr>\n",
       "    <tr>\n",
       "      <th>Graduation</th>\n",
       "      <th>Divorced</th>\n",
       "      <td>49</td>\n",
       "    </tr>\n",
       "    <tr>\n",
       "      <th>PhD</th>\n",
       "      <th>Single</th>\n",
       "      <td>41</td>\n",
       "    </tr>\n",
       "    <tr>\n",
       "      <th rowspan=\"2\" valign=\"top\">Master</th>\n",
       "      <th>Together</th>\n",
       "      <td>41</td>\n",
       "    </tr>\n",
       "    <tr>\n",
       "      <th>Single</th>\n",
       "      <td>32</td>\n",
       "    </tr>\n",
       "    <tr>\n",
       "      <th>PhD</th>\n",
       "      <th>Divorced</th>\n",
       "      <td>23</td>\n",
       "    </tr>\n",
       "    <tr>\n",
       "      <th>Graduation</th>\n",
       "      <th>Widow</th>\n",
       "      <td>21</td>\n",
       "    </tr>\n",
       "    <tr>\n",
       "      <th>Master</th>\n",
       "      <th>Divorced</th>\n",
       "      <td>12</td>\n",
       "    </tr>\n",
       "    <tr>\n",
       "      <th rowspan=\"2\" valign=\"top\">Basic</th>\n",
       "      <th>Married</th>\n",
       "      <td>9</td>\n",
       "    </tr>\n",
       "    <tr>\n",
       "      <th>Together</th>\n",
       "      <td>4</td>\n",
       "    </tr>\n",
       "    <tr>\n",
       "      <th>Master</th>\n",
       "      <th>Widow</th>\n",
       "      <td>4</td>\n",
       "    </tr>\n",
       "    <tr>\n",
       "      <th>PhD</th>\n",
       "      <th>Widow</th>\n",
       "      <td>4</td>\n",
       "    </tr>\n",
       "    <tr>\n",
       "      <th rowspan=\"2\" valign=\"top\">Basic</th>\n",
       "      <th>Single</th>\n",
       "      <td>1</td>\n",
       "    </tr>\n",
       "    <tr>\n",
       "      <th>Divorced</th>\n",
       "      <td>1</td>\n",
       "    </tr>\n",
       "  </tbody>\n",
       "</table>\n",
       "</div>"
      ],
      "text/plain": [
       "                           Count\n",
       "Education  Marital_Status       \n",
       "Graduation Married           168\n",
       "           Single             98\n",
       "           Together           96\n",
       "PhD        Married            68\n",
       "Master     Married            57\n",
       "PhD        Together           51\n",
       "Graduation Divorced           49\n",
       "PhD        Single             41\n",
       "Master     Together           41\n",
       "           Single             32\n",
       "PhD        Divorced           23\n",
       "Graduation Widow              21\n",
       "Master     Divorced           12\n",
       "Basic      Married             9\n",
       "           Together            4\n",
       "Master     Widow               4\n",
       "PhD        Widow               4\n",
       "Basic      Single              1\n",
       "           Divorced            1"
      ]
     },
     "execution_count": 390,
     "metadata": {},
     "output_type": "execute_result"
    }
   ],
   "source": [
    "gr_df.sort_values(by='Count', ascending= False)"
   ]
  },
  {
   "cell_type": "markdown",
   "metadata": {},
   "source": [
    "В результате получилась отсортирована таблица по количеству записей с определённым семейным положением на различных уровнях образования"
   ]
  },
  {
   "cell_type": "markdown",
   "metadata": {},
   "source": [
    "### Задание 3\n",
    "_Сводная таблица (pivot_table) - средний доход семьи по семейному положению. Отсортировать по убыванию. Округлить до двух знаков._\n"
   ]
  },
  {
   "cell_type": "markdown",
   "metadata": {},
   "source": [
    "Метод `.pivot_table()` используется для создания сводных таблиц, которые позволяют агрегировать данные и представлять их в удобном формате. Основные атрибуты метода:\n",
    "+ `values`: Столбец или столбцы для агрегирования\n",
    "+ `index`: Столбец или столбцы, которые будут использоваться в качестве индексов строк\n",
    "+ `columns`: Столбец или столбцы, которые будут использоваться в качестве заголовков столбцов\n",
    "+ `aggfunc`: Функция или список функций для агрегации\n",
    "\n",
    "В данном задании необходимо создать сводную таблицу среднего дохода только по семейному положению, поэтому из списка используются только атрибуты `values`, `index` и `aggfunc`. За значения берётся доход, за индексы - семейное положение и функция усреднения.\n",
    "Также значения были отсортированы по убыванию и округлены до 2 знаков с помощью метода `.round(2)`"
   ]
  },
  {
   "cell_type": "code",
   "execution_count": 391,
   "metadata": {},
   "outputs": [
    {
     "data": {
      "text/html": [
       "<div>\n",
       "<style scoped>\n",
       "    .dataframe tbody tr th:only-of-type {\n",
       "        vertical-align: middle;\n",
       "    }\n",
       "\n",
       "    .dataframe tbody tr th {\n",
       "        vertical-align: top;\n",
       "    }\n",
       "\n",
       "    .dataframe thead th {\n",
       "        text-align: right;\n",
       "    }\n",
       "</style>\n",
       "<table border=\"1\" class=\"dataframe\">\n",
       "  <thead>\n",
       "    <tr style=\"text-align: right;\">\n",
       "      <th></th>\n",
       "      <th>Income</th>\n",
       "    </tr>\n",
       "    <tr>\n",
       "      <th>Marital_Status</th>\n",
       "      <th></th>\n",
       "    </tr>\n",
       "  </thead>\n",
       "  <tbody>\n",
       "    <tr>\n",
       "      <th>Widow</th>\n",
       "      <td>55452.45</td>\n",
       "    </tr>\n",
       "    <tr>\n",
       "      <th>Divorced</th>\n",
       "      <td>54568.16</td>\n",
       "    </tr>\n",
       "    <tr>\n",
       "      <th>Together</th>\n",
       "      <td>54502.84</td>\n",
       "    </tr>\n",
       "    <tr>\n",
       "      <th>Married</th>\n",
       "      <td>52898.34</td>\n",
       "    </tr>\n",
       "    <tr>\n",
       "      <th>Single</th>\n",
       "      <td>50934.03</td>\n",
       "    </tr>\n",
       "  </tbody>\n",
       "</table>\n",
       "</div>"
      ],
      "text/plain": [
       "                  Income\n",
       "Marital_Status          \n",
       "Widow           55452.45\n",
       "Divorced        54568.16\n",
       "Together        54502.84\n",
       "Married         52898.34\n",
       "Single          50934.03"
      ]
     },
     "metadata": {},
     "output_type": "display_data"
    }
   ],
   "source": [
    "pivot = df.pivot_table(values='Income', index='Marital_Status', aggfunc='mean')\n",
    "display(pivot.sort_values(by='Income',ascending= False).round(2))"
   ]
  },
  {
   "cell_type": "markdown",
   "metadata": {},
   "source": [
    "Получившаяся таблица показывает среднее значение дохода семьи по семейному положению."
   ]
  },
  {
   "cell_type": "markdown",
   "metadata": {},
   "source": [
    "### Задание 4\n",
    "_Сводная таблица (pivot_table) - средний доход семьи по семейному положению - строки и уровню образованию - столбцы. Отсортировать по возрастанию marital_status. Округлить до двух знаков._\n"
   ]
  },
  {
   "cell_type": "markdown",
   "metadata": {},
   "source": [
    "В данном задании необходимо сделать такую же сводную таблицу, но с использованием атрибута `columns`, в качестве которого используется столбец `Education`. Значения были отсортированы по возрастанию индексов `Marital_Status` и округлены до 2 знаков."
   ]
  },
  {
   "cell_type": "code",
   "execution_count": 392,
   "metadata": {},
   "outputs": [
    {
     "data": {
      "text/html": [
       "<div>\n",
       "<style scoped>\n",
       "    .dataframe tbody tr th:only-of-type {\n",
       "        vertical-align: middle;\n",
       "    }\n",
       "\n",
       "    .dataframe tbody tr th {\n",
       "        vertical-align: top;\n",
       "    }\n",
       "\n",
       "    .dataframe thead th {\n",
       "        text-align: right;\n",
       "    }\n",
       "</style>\n",
       "<table border=\"1\" class=\"dataframe\">\n",
       "  <thead>\n",
       "    <tr style=\"text-align: right;\">\n",
       "      <th>Education</th>\n",
       "      <th>Basic</th>\n",
       "      <th>Graduation</th>\n",
       "      <th>Master</th>\n",
       "      <th>PhD</th>\n",
       "    </tr>\n",
       "    <tr>\n",
       "      <th>Marital_Status</th>\n",
       "      <th></th>\n",
       "      <th></th>\n",
       "      <th></th>\n",
       "      <th></th>\n",
       "    </tr>\n",
       "  </thead>\n",
       "  <tbody>\n",
       "    <tr>\n",
       "      <th>Divorced</th>\n",
       "      <td>9548.00</td>\n",
       "      <td>57420.98</td>\n",
       "      <td>49405.83</td>\n",
       "      <td>53141.22</td>\n",
       "    </tr>\n",
       "    <tr>\n",
       "      <th>Married</th>\n",
       "      <td>22018.22</td>\n",
       "      <td>51078.81</td>\n",
       "      <td>55391.37</td>\n",
       "      <td>59391.00</td>\n",
       "    </tr>\n",
       "    <tr>\n",
       "      <th>Single</th>\n",
       "      <td>21063.00</td>\n",
       "      <td>50325.66</td>\n",
       "      <td>50831.16</td>\n",
       "      <td>53197.05</td>\n",
       "    </tr>\n",
       "    <tr>\n",
       "      <th>Together</th>\n",
       "      <td>22437.50</td>\n",
       "      <td>52922.06</td>\n",
       "      <td>51009.98</td>\n",
       "      <td>62801.33</td>\n",
       "    </tr>\n",
       "    <tr>\n",
       "      <th>Widow</th>\n",
       "      <td>NaN</td>\n",
       "      <td>55146.81</td>\n",
       "      <td>47164.00</td>\n",
       "      <td>65345.50</td>\n",
       "    </tr>\n",
       "  </tbody>\n",
       "</table>\n",
       "</div>"
      ],
      "text/plain": [
       "Education          Basic  Graduation    Master       PhD\n",
       "Marital_Status                                          \n",
       "Divorced         9548.00    57420.98  49405.83  53141.22\n",
       "Married         22018.22    51078.81  55391.37  59391.00\n",
       "Single          21063.00    50325.66  50831.16  53197.05\n",
       "Together        22437.50    52922.06  51009.98  62801.33\n",
       "Widow                NaN    55146.81  47164.00  65345.50"
      ]
     },
     "metadata": {},
     "output_type": "display_data"
    }
   ],
   "source": [
    "pivot_sq = df.pivot_table(values='Income', index='Marital_Status',columns='Education', aggfunc='mean')\n",
    "display(pivot_sq.sort_values(by= 'Marital_Status', ascending= True).round(2))"
   ]
  },
  {
   "cell_type": "markdown",
   "metadata": {},
   "source": [
    "Данная таблица отображает средние значения дохода семьи по разным уровням образования и семейному положению клиентов. Также в данной таблице можно заметить значение NaN. Это обусловлено тем, что в датасете не было заявлено записей вдовцов с базовым образованием."
   ]
  },
  {
   "cell_type": "markdown",
   "metadata": {},
   "source": [
    "### Вывод"
   ]
  },
  {
   "cell_type": "markdown",
   "metadata": {},
   "source": [
    "В данной лабораторной работе была проделана работа по обработке датасета, исключив ненужные записи и заменив некоторые значения, а также анализу данных с помощью группировки и создания сводной таблицы. Были освоены основные методы библиотеки `pandas` и варианты их использования:\n",
    "1. Для вывода информации о датасете были использованы методы `.info()`, `.describe()`\n",
    "2. Для вывода информации об определённых аспектах датасета были использованы методы `df.column`, `.isna()`, `.isnull()`, `.unique()`, `.duplicated()`\n",
    "3. Для замены данных в датасете были использованы методы `.rename()` - для столбцов или значений внутри столбцов, `.astype()` и `pd.to_datetime` - для изменения типа данных какого-либо столбца\n",
    "\n",
    "Также были использованы методы `.groupby()` для группировки значений, `sort_values()` для их сортировки, `.pivot_table()` для создания сводной таблицы и `pd.DataFrame()` для создания датафрейма из таблицы.\n"
   ]
  },
  {
   "cell_type": "markdown",
   "metadata": {},
   "source": [
    "### Дополнительное задание\n",
    "_В столбце \"Income\" выделить 4 категории, сгруппировать по количеству записей. Выделить, какая категория имеет больше всего записей, фильтровать по этой категории и вывести отсортированную по убыванию сводную таблицу со столбцами \"Marital_Status\", \"Education\", средние значения \"Children\"_"
   ]
  },
  {
   "cell_type": "code",
   "execution_count": 393,
   "metadata": {},
   "outputs": [
    {
     "data": {
      "text/plain": [
       "IncomeGroup\n",
       "Low           77\n",
       "Medium       279\n",
       "High         289\n",
       "Very High    127\n",
       "Name: ID, dtype: int64"
      ]
     },
     "metadata": {},
     "output_type": "display_data"
    }
   ],
   "source": [
    "bounds = [0,25000,50000,75000,100000]\n",
    "categories = ['Low', 'Medium', 'High', 'Very High']\n",
    "\n",
    "df['IncomeGroup'] = pd.cut(df['Income'], bins= bounds, labels= categories)\n",
    "\n",
    "df_cat = df.groupby('IncomeGroup', observed= True)\n",
    "df_catstat = df_cat['ID'].count()\n",
    "display(df_catstat)"
   ]
  },
  {
   "cell_type": "code",
   "execution_count": 394,
   "metadata": {},
   "outputs": [
    {
     "data": {
      "text/html": [
       "<div>\n",
       "<style scoped>\n",
       "    .dataframe tbody tr th:only-of-type {\n",
       "        vertical-align: middle;\n",
       "    }\n",
       "\n",
       "    .dataframe tbody tr th {\n",
       "        vertical-align: top;\n",
       "    }\n",
       "\n",
       "    .dataframe thead th {\n",
       "        text-align: right;\n",
       "    }\n",
       "</style>\n",
       "<table border=\"1\" class=\"dataframe\">\n",
       "  <thead>\n",
       "    <tr style=\"text-align: right;\">\n",
       "      <th></th>\n",
       "      <th>ID</th>\n",
       "      <th>Birth_Year</th>\n",
       "      <th>Education</th>\n",
       "      <th>Marital_Status</th>\n",
       "      <th>Income</th>\n",
       "      <th>Children</th>\n",
       "      <th>Reg_Date</th>\n",
       "      <th>Purchases</th>\n",
       "      <th>IncomeGroup</th>\n",
       "    </tr>\n",
       "  </thead>\n",
       "  <tbody>\n",
       "    <tr>\n",
       "      <th>0</th>\n",
       "      <td>5524</td>\n",
       "      <td>1957</td>\n",
       "      <td>Graduation</td>\n",
       "      <td>Single</td>\n",
       "      <td>58138.0</td>\n",
       "      <td>0</td>\n",
       "      <td>2012-09-04</td>\n",
       "      <td>3</td>\n",
       "      <td>High</td>\n",
       "    </tr>\n",
       "    <tr>\n",
       "      <th>2</th>\n",
       "      <td>4141</td>\n",
       "      <td>1965</td>\n",
       "      <td>Graduation</td>\n",
       "      <td>Together</td>\n",
       "      <td>71613.0</td>\n",
       "      <td>0</td>\n",
       "      <td>2013-08-21</td>\n",
       "      <td>1</td>\n",
       "      <td>High</td>\n",
       "    </tr>\n",
       "    <tr>\n",
       "      <th>4</th>\n",
       "      <td>5324</td>\n",
       "      <td>1981</td>\n",
       "      <td>PhD</td>\n",
       "      <td>Married</td>\n",
       "      <td>58293.0</td>\n",
       "      <td>1</td>\n",
       "      <td>2014-01-19</td>\n",
       "      <td>5</td>\n",
       "      <td>High</td>\n",
       "    </tr>\n",
       "    <tr>\n",
       "      <th>5</th>\n",
       "      <td>7446</td>\n",
       "      <td>1967</td>\n",
       "      <td>Master</td>\n",
       "      <td>Together</td>\n",
       "      <td>62513.0</td>\n",
       "      <td>0</td>\n",
       "      <td>2013-09-09</td>\n",
       "      <td>2</td>\n",
       "      <td>High</td>\n",
       "    </tr>\n",
       "    <tr>\n",
       "      <th>6</th>\n",
       "      <td>965</td>\n",
       "      <td>1971</td>\n",
       "      <td>Graduation</td>\n",
       "      <td>Divorced</td>\n",
       "      <td>55635.0</td>\n",
       "      <td>0</td>\n",
       "      <td>2012-11-13</td>\n",
       "      <td>4</td>\n",
       "      <td>High</td>\n",
       "    </tr>\n",
       "    <tr>\n",
       "      <th>...</th>\n",
       "      <td>...</td>\n",
       "      <td>...</td>\n",
       "      <td>...</td>\n",
       "      <td>...</td>\n",
       "      <td>...</td>\n",
       "      <td>...</td>\n",
       "      <td>...</td>\n",
       "      <td>...</td>\n",
       "      <td>...</td>\n",
       "    </tr>\n",
       "    <tr>\n",
       "      <th>783</th>\n",
       "      <td>3643</td>\n",
       "      <td>1974</td>\n",
       "      <td>Master</td>\n",
       "      <td>Married</td>\n",
       "      <td>63206.0</td>\n",
       "      <td>0</td>\n",
       "      <td>2014-03-20</td>\n",
       "      <td>1</td>\n",
       "      <td>High</td>\n",
       "    </tr>\n",
       "    <tr>\n",
       "      <th>784</th>\n",
       "      <td>851</td>\n",
       "      <td>1972</td>\n",
       "      <td>Master</td>\n",
       "      <td>Married</td>\n",
       "      <td>57136.0</td>\n",
       "      <td>1</td>\n",
       "      <td>2013-07-09</td>\n",
       "      <td>9</td>\n",
       "      <td>High</td>\n",
       "    </tr>\n",
       "    <tr>\n",
       "      <th>786</th>\n",
       "      <td>10128</td>\n",
       "      <td>1958</td>\n",
       "      <td>Graduation</td>\n",
       "      <td>Together</td>\n",
       "      <td>53977.0</td>\n",
       "      <td>0</td>\n",
       "      <td>2013-06-08</td>\n",
       "      <td>5</td>\n",
       "      <td>High</td>\n",
       "    </tr>\n",
       "    <tr>\n",
       "      <th>789</th>\n",
       "      <td>9451</td>\n",
       "      <td>1965</td>\n",
       "      <td>Graduation</td>\n",
       "      <td>Married</td>\n",
       "      <td>73538.0</td>\n",
       "      <td>0</td>\n",
       "      <td>2012-11-25</td>\n",
       "      <td>3</td>\n",
       "      <td>High</td>\n",
       "    </tr>\n",
       "    <tr>\n",
       "      <th>791</th>\n",
       "      <td>2853</td>\n",
       "      <td>1980</td>\n",
       "      <td>Graduation</td>\n",
       "      <td>Single</td>\n",
       "      <td>51766.0</td>\n",
       "      <td>1</td>\n",
       "      <td>2014-03-11</td>\n",
       "      <td>2</td>\n",
       "      <td>High</td>\n",
       "    </tr>\n",
       "  </tbody>\n",
       "</table>\n",
       "<p>289 rows × 9 columns</p>\n",
       "</div>"
      ],
      "text/plain": [
       "        ID  Birth_Year   Education Marital_Status   Income  Children  \\\n",
       "0     5524        1957  Graduation         Single  58138.0         0   \n",
       "2     4141        1965  Graduation       Together  71613.0         0   \n",
       "4     5324        1981         PhD        Married  58293.0         1   \n",
       "5     7446        1967      Master       Together  62513.0         0   \n",
       "6      965        1971  Graduation       Divorced  55635.0         0   \n",
       "..     ...         ...         ...            ...      ...       ...   \n",
       "783   3643        1974      Master        Married  63206.0         0   \n",
       "784    851        1972      Master        Married  57136.0         1   \n",
       "786  10128        1958  Graduation       Together  53977.0         0   \n",
       "789   9451        1965  Graduation        Married  73538.0         0   \n",
       "791   2853        1980  Graduation         Single  51766.0         1   \n",
       "\n",
       "      Reg_Date  Purchases IncomeGroup  \n",
       "0   2012-09-04          3        High  \n",
       "2   2013-08-21          1        High  \n",
       "4   2014-01-19          5        High  \n",
       "5   2013-09-09          2        High  \n",
       "6   2012-11-13          4        High  \n",
       "..         ...        ...         ...  \n",
       "783 2014-03-20          1        High  \n",
       "784 2013-07-09          9        High  \n",
       "786 2013-06-08          5        High  \n",
       "789 2012-11-25          3        High  \n",
       "791 2014-03-11          2        High  \n",
       "\n",
       "[289 rows x 9 columns]"
      ]
     },
     "metadata": {},
     "output_type": "display_data"
    }
   ],
   "source": [
    "df_filter = df.query('IncomeGroup == \"High\"')\n",
    "display(df_filter)"
   ]
  },
  {
   "cell_type": "code",
   "execution_count": 395,
   "metadata": {},
   "outputs": [
    {
     "data": {
      "text/html": [
       "<div>\n",
       "<style scoped>\n",
       "    .dataframe tbody tr th:only-of-type {\n",
       "        vertical-align: middle;\n",
       "    }\n",
       "\n",
       "    .dataframe tbody tr th {\n",
       "        vertical-align: top;\n",
       "    }\n",
       "\n",
       "    .dataframe thead th {\n",
       "        text-align: right;\n",
       "    }\n",
       "</style>\n",
       "<table border=\"1\" class=\"dataframe\">\n",
       "  <thead>\n",
       "    <tr style=\"text-align: right;\">\n",
       "      <th></th>\n",
       "      <th></th>\n",
       "      <th>Children</th>\n",
       "    </tr>\n",
       "    <tr>\n",
       "      <th>Marital_Status</th>\n",
       "      <th>Education</th>\n",
       "      <th></th>\n",
       "    </tr>\n",
       "  </thead>\n",
       "  <tbody>\n",
       "    <tr>\n",
       "      <th rowspan=\"3\" valign=\"top\">Divorced</th>\n",
       "      <th>Graduation</th>\n",
       "      <td>0.052632</td>\n",
       "    </tr>\n",
       "    <tr>\n",
       "      <th>Master</th>\n",
       "      <td>0.400000</td>\n",
       "    </tr>\n",
       "    <tr>\n",
       "      <th>PhD</th>\n",
       "      <td>0.200000</td>\n",
       "    </tr>\n",
       "    <tr>\n",
       "      <th rowspan=\"3\" valign=\"top\">Married</th>\n",
       "      <th>Graduation</th>\n",
       "      <td>0.262295</td>\n",
       "    </tr>\n",
       "    <tr>\n",
       "      <th>Master</th>\n",
       "      <td>0.227273</td>\n",
       "    </tr>\n",
       "    <tr>\n",
       "      <th>PhD</th>\n",
       "      <td>0.233333</td>\n",
       "    </tr>\n",
       "    <tr>\n",
       "      <th rowspan=\"3\" valign=\"top\">Single</th>\n",
       "      <th>Graduation</th>\n",
       "      <td>0.133333</td>\n",
       "    </tr>\n",
       "    <tr>\n",
       "      <th>Master</th>\n",
       "      <td>0.222222</td>\n",
       "    </tr>\n",
       "    <tr>\n",
       "      <th>PhD</th>\n",
       "      <td>0.142857</td>\n",
       "    </tr>\n",
       "    <tr>\n",
       "      <th rowspan=\"3\" valign=\"top\">Together</th>\n",
       "      <th>Graduation</th>\n",
       "      <td>0.125000</td>\n",
       "    </tr>\n",
       "    <tr>\n",
       "      <th>Master</th>\n",
       "      <td>0.294118</td>\n",
       "    </tr>\n",
       "    <tr>\n",
       "      <th>PhD</th>\n",
       "      <td>0.111111</td>\n",
       "    </tr>\n",
       "    <tr>\n",
       "      <th rowspan=\"3\" valign=\"top\">Widow</th>\n",
       "      <th>Graduation</th>\n",
       "      <td>0.111111</td>\n",
       "    </tr>\n",
       "    <tr>\n",
       "      <th>Master</th>\n",
       "      <td>0.000000</td>\n",
       "    </tr>\n",
       "    <tr>\n",
       "      <th>PhD</th>\n",
       "      <td>0.000000</td>\n",
       "    </tr>\n",
       "  </tbody>\n",
       "</table>\n",
       "</div>"
      ],
      "text/plain": [
       "                           Children\n",
       "Marital_Status Education           \n",
       "Divorced       Graduation  0.052632\n",
       "               Master      0.400000\n",
       "               PhD         0.200000\n",
       "Married        Graduation  0.262295\n",
       "               Master      0.227273\n",
       "               PhD         0.233333\n",
       "Single         Graduation  0.133333\n",
       "               Master      0.222222\n",
       "               PhD         0.142857\n",
       "Together       Graduation  0.125000\n",
       "               Master      0.294118\n",
       "               PhD         0.111111\n",
       "Widow          Graduation  0.111111\n",
       "               Master      0.000000\n",
       "               PhD         0.000000"
      ]
     },
     "metadata": {},
     "output_type": "display_data"
    }
   ],
   "source": [
    "df_high = pd.DataFrame(df_filter)\n",
    "pivot_filter = df_high.pivot_table(values= 'Children', index= ['Marital_Status', 'Education'], aggfunc= 'mean')\n",
    "display(pivot_filter)"
   ]
  }
 ],
 "metadata": {
  "kernelspec": {
   "display_name": "Python 3",
   "language": "python",
   "name": "python3"
  },
  "language_info": {
   "codemirror_mode": {
    "name": "ipython",
    "version": 3
   },
   "file_extension": ".py",
   "mimetype": "text/x-python",
   "name": "python",
   "nbconvert_exporter": "python",
   "pygments_lexer": "ipython3",
   "version": "3.12.6"
  }
 },
 "nbformat": 4,
 "nbformat_minor": 2
}
